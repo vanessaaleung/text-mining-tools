{
  "nbformat": 4,
  "nbformat_minor": 0,
  "metadata": {
    "coursera": {
      "course_slug": "python-text-mining",
      "graded_item_id": "2qbcK",
      "launcher_item_id": "pi9Sh",
      "part_id": "kQiwX"
    },
    "kernelspec": {
      "display_name": "Python 3",
      "language": "python",
      "name": "python3"
    },
    "language_info": {
      "codemirror_mode": {
        "name": "ipython",
        "version": 3
      },
      "file_extension": ".py",
      "mimetype": "text/x-python",
      "name": "python",
      "nbconvert_exporter": "python",
      "pygments_lexer": "ipython3",
      "version": "3.6.2"
    },
    "colab": {
      "name": "Document Similarity.ipynb",
      "provenance": [],
      "include_colab_link": true
    }
  },
  "cells": [
    {
      "cell_type": "markdown",
      "metadata": {
        "id": "view-in-github",
        "colab_type": "text"
      },
      "source": [
        "<a href=\"https://colab.research.google.com/github/vanessaaleung/text-mining-tools/blob/main/doc-similarity/Document_Similarity.ipynb\" target=\"_parent\"><img src=\"https://colab.research.google.com/assets/colab-badge.svg\" alt=\"Open In Colab\"/></a>"
      ]
    },
    {
      "cell_type": "markdown",
      "metadata": {
        "id": "NR1cLOOBUySS"
      },
      "source": [
        "# Document Similarity\n",
        "\n",
        "Find the path similarity between two documents"
      ]
    },
    {
      "cell_type": "markdown",
      "metadata": {
        "id": "B5iip9oxUySS"
      },
      "source": [
        "### Functions:\n",
        "* **`convert_tag:`** converts the tag given by `nltk.pos_tag` to a tag used by `wordnet.synsets`.\n",
        "* **`document_path_similarity:`** computes the symmetrical path similarity between two documents by finding the synsets in each document using `doc_to_synsets`, then computing similarities using `similarity_score`.\n",
        "* **`doc_to_synsets:`** returns a list of synsets in document. This function first tokenize and part of speech tag the document using `nltk.word_tokenize` and `nltk.pos_tag`. Then it should find each tokens corresponding synset using `wn.synsets(token, wordnet_tag)`. The first synset match should be used. If there is no match, that token is skipped.\n",
        "* **`similarity_score:`** returns the normalized similarity score of a list of synsets (s1) onto a second list of synsets (s2). For each synset in s1, find the synset in s2 with the largest similarity value. Sum all of the largest similarity values together and normalize this value by dividing it by the number of largest similarity values found.Missing values are ignored."
      ]
    },
    {
      "cell_type": "code",
      "metadata": {
        "id": "i2Hr57IDXK15"
      },
      "source": [
        "import numpy as np\n",
        "import nltk\n",
        "from nltk.corpus import wordnet as wn\n",
        "import pandas as pd\n",
        "nltk.download('punkt')\n",
        "nltk.download('averaged_perceptron_tagger')\n",
        "nltk.download('wordnet')"
      ],
      "execution_count": null,
      "outputs": []
    },
    {
      "cell_type": "code",
      "metadata": {
        "id": "6PwfUX5yXNjm"
      },
      "source": [
        "def convert_tag(tag):\n",
        "    \"\"\"Convert the tag given by nltk.pos_tag to the tag used by wordnet.synsets\"\"\"\n",
        "    \n",
        "    tag_dict = {'N': 'n', 'J': 'a', 'R': 'r', 'V': 'v'}\n",
        "    try:\n",
        "        return tag_dict[tag[0]]\n",
        "    except KeyError:\n",
        "        return None"
      ],
      "execution_count": 8,
      "outputs": []
    },
    {
      "cell_type": "code",
      "metadata": {
        "id": "yOKfptOGXPj_"
      },
      "source": [
        "def doc_to_synsets(doc):\n",
        "    \"\"\"\n",
        "    Returns a list of synsets in document.\n",
        "\n",
        "    Tokenizes and tags the words in the document doc.\n",
        "    Then finds the first synset for each word/tag combination.\n",
        "    If a synset is not found for that combination it is skipped.\n",
        "\n",
        "    Args:\n",
        "        doc: string to be converted\n",
        "\n",
        "    Returns:\n",
        "        list of synsets\n",
        "\n",
        "    Example:\n",
        "        doc_to_synsets('Fish are nvqjp friends.')\n",
        "        Out: [Synset('fish.n.01'), Synset('be.v.01'), Synset('friend.n.01')]\n",
        "    \"\"\"\n",
        "\n",
        "    tokens = nltk.word_tokenize(doc)\n",
        "    tags = nltk.pos_tag(tokens)\n",
        "    converted_tags = [(t[0], convert_tag(t[1])) for t in tags]\n",
        "    synsets = [wn.synsets(combination[0], combination[1])[0] for combination in converted_tags if wn.synsets(combination[0], combination[1])]\n",
        "    \n",
        "    return synsets"
      ],
      "execution_count": 9,
      "outputs": []
    },
    {
      "cell_type": "code",
      "metadata": {
        "id": "7A4Qh6KwXRGj"
      },
      "source": [
        "def similarity_score(s1, s2):\n",
        "    \"\"\"\n",
        "    Calculate the normalized similarity score of s1 onto s2\n",
        "\n",
        "    For each synset in s1, finds the synset in s2 with the largest similarity value.\n",
        "    Sum of all of the largest similarity values and normalize this value by dividing it by the\n",
        "    number of largest similarity values found.\n",
        "\n",
        "    Args:\n",
        "        s1, s2: list of synsets from doc_to_synsets\n",
        "\n",
        "    Returns:\n",
        "        normalized similarity score of s1 onto s2\n",
        "\n",
        "    Example:\n",
        "        synsets1 = doc_to_synsets('I like cats')\n",
        "        synsets2 = doc_to_synsets('I like dogs')\n",
        "        similarity_score(synsets1, synsets2)\n",
        "        Out: 0.73333333333333339\n",
        "    \"\"\"\n",
        "    largest_scores = []\n",
        "    for i in s1:\n",
        "        similarity_scores = [i.path_similarity(j) for j in s2 if i.path_similarity(j)]\n",
        "        if similarity_scores:\n",
        "            largest_scores.append(max(similarity_scores))\n",
        "    \n",
        "    return np.float64(sum(largest_scores)/len(largest_scores))"
      ],
      "execution_count": 10,
      "outputs": []
    },
    {
      "cell_type": "code",
      "metadata": {
        "id": "LgPhSPUGUyST"
      },
      "source": [
        "def document_path_similarity(doc1, doc2):\n",
        "    \"\"\"Finds the symmetrical similarity between doc1 and doc2\"\"\"\n",
        "\n",
        "    synsets1 = doc_to_synsets(doc1)\n",
        "    synsets2 = doc_to_synsets(doc2)\n",
        "\n",
        "    return (similarity_score(synsets1, synsets2) + similarity_score(synsets2, synsets1)) / 2"
      ],
      "execution_count": 11,
      "outputs": []
    },
    {
      "cell_type": "markdown",
      "metadata": {
        "id": "8F0ZJGE7UySe"
      },
      "source": [
        "`Quality` is an indicator variable which indicates if the two documents `D1` and `D2` are paraphrases of one another (1 for paraphrase, 0 for not paraphrase)."
      ]
    },
    {
      "cell_type": "code",
      "metadata": {
        "id": "JuHptT74UySe",
        "outputId": "901895d9-2122-4024-c691-e0e74f0d21a7",
        "colab": {
          "base_uri": "https://localhost:8080/",
          "height": 204
        }
      },
      "source": [
        "paraphrases = pd.read_csv('https://raw.githubusercontent.com/vanessaaleung/text-mining-tools/main/doc-similarity/paraphrases.csv')\n",
        "paraphrases.head()"
      ],
      "execution_count": 3,
      "outputs": [
        {
          "output_type": "execute_result",
          "data": {
            "text/html": [
              "<div>\n",
              "<style scoped>\n",
              "    .dataframe tbody tr th:only-of-type {\n",
              "        vertical-align: middle;\n",
              "    }\n",
              "\n",
              "    .dataframe tbody tr th {\n",
              "        vertical-align: top;\n",
              "    }\n",
              "\n",
              "    .dataframe thead th {\n",
              "        text-align: right;\n",
              "    }\n",
              "</style>\n",
              "<table border=\"1\" class=\"dataframe\">\n",
              "  <thead>\n",
              "    <tr style=\"text-align: right;\">\n",
              "      <th></th>\n",
              "      <th>Quality</th>\n",
              "      <th>D1</th>\n",
              "      <th>D2</th>\n",
              "    </tr>\n",
              "  </thead>\n",
              "  <tbody>\n",
              "    <tr>\n",
              "      <th>0</th>\n",
              "      <td>1</td>\n",
              "      <td>Ms Stewart, the chief executive, was not expec...</td>\n",
              "      <td>Ms Stewart, 61, its chief executive officer an...</td>\n",
              "    </tr>\n",
              "    <tr>\n",
              "      <th>1</th>\n",
              "      <td>1</td>\n",
              "      <td>After more than two years' detention under the...</td>\n",
              "      <td>After more than two years in detention by the ...</td>\n",
              "    </tr>\n",
              "    <tr>\n",
              "      <th>2</th>\n",
              "      <td>1</td>\n",
              "      <td>\"It still remains to be seen whether the reven...</td>\n",
              "      <td>\"It remains to be seen whether the revenue rec...</td>\n",
              "    </tr>\n",
              "    <tr>\n",
              "      <th>3</th>\n",
              "      <td>0</td>\n",
              "      <td>And it's going to be a wild ride,\" said Allan ...</td>\n",
              "      <td>Now the rest is just mechanical,\" said Allan H...</td>\n",
              "    </tr>\n",
              "    <tr>\n",
              "      <th>4</th>\n",
              "      <td>1</td>\n",
              "      <td>The cards are issued by Mexico's consulates to...</td>\n",
              "      <td>The card is issued by Mexico's consulates to i...</td>\n",
              "    </tr>\n",
              "  </tbody>\n",
              "</table>\n",
              "</div>"
            ],
            "text/plain": [
              "   Quality  ...                                                 D2\n",
              "0        1  ...  Ms Stewart, 61, its chief executive officer an...\n",
              "1        1  ...  After more than two years in detention by the ...\n",
              "2        1  ...  \"It remains to be seen whether the revenue rec...\n",
              "3        0  ...  Now the rest is just mechanical,\" said Allan H...\n",
              "4        1  ...  The card is issued by Mexico's consulates to i...\n",
              "\n",
              "[5 rows x 3 columns]"
            ]
          },
          "metadata": {
            "tags": []
          },
          "execution_count": 3
        }
      ]
    },
    {
      "cell_type": "markdown",
      "metadata": {
        "id": "lWyCxIqSUySk"
      },
      "source": [
        "### Model Accuracy\n",
        "\n",
        "If the score is greater than 0.75, label is paraphrase (1), else label is not paraphrase (0)."
      ]
    },
    {
      "cell_type": "code",
      "metadata": {
        "id": "SJVDkNVdUySk"
      },
      "source": [
        "def accuracy():\n",
        "    from sklearn.metrics import accuracy_score\n",
        "\n",
        "    paraphrases['similarity_score'] = paraphrases.apply(lambda row: document_path_similarity(row.D1, row.D2), axis=1)\n",
        "    paraphrases['label'] = np.where(paraphrases['similarity_score'] > 0.75, 1, 0)\n",
        "    \n",
        "    return accuracy_score(paraphrases['Quality'], paraphrases['label'])"
      ],
      "execution_count": 6,
      "outputs": []
    },
    {
      "cell_type": "code",
      "metadata": {
        "id": "jwr7PakTW7tu",
        "outputId": "21565988-11d4-4fd6-c7c3-3677e8e6cfdc",
        "colab": {
          "base_uri": "https://localhost:8080/"
        }
      },
      "source": [
        "accuracy()"
      ],
      "execution_count": 7,
      "outputs": [
        {
          "output_type": "execute_result",
          "data": {
            "text/plain": [
              "0.8"
            ]
          },
          "metadata": {
            "tags": []
          },
          "execution_count": 7
        }
      ]
    }
  ]
}